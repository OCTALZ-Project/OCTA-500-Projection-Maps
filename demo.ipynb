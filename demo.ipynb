{
 "cells": [
  {
   "cell_type": "code",
   "execution_count": 1,
   "metadata": {},
   "outputs": [
    {
     "name": "stdout",
     "output_type": "stream",
     "text": [
      "Device: cuda\n",
      "<torch.utils.data.dataloader.DataLoader object at 0x000001AD8F235210>\n"
     ]
    },
    {
     "data": {
      "application/vnd.jupyter.widget-view+json": {
       "model_id": "652cfe67d37d4efc8f091c971c83de2b",
       "version_major": 2,
       "version_minor": 0
      },
      "text/plain": [
       "Training:   0%|          | 0/100 [00:00<?, ?it/s]"
      ]
     },
     "metadata": {},
     "output_type": "display_data"
    },
    {
     "data": {
      "application/vnd.jupyter.widget-view+json": {
       "model_id": "1c2ca360f19d432ea88e66148185cb5b",
       "version_major": 2,
       "version_minor": 0
      },
      "text/plain": [
       "Validation:   0%|          | 0/100 [00:00<?, ?it/s]"
      ]
     },
     "metadata": {},
     "output_type": "display_data"
    },
    {
     "ename": "KeyboardInterrupt",
     "evalue": "",
     "output_type": "error",
     "traceback": [
      "\u001b[1;31m---------------------------------------------------------------------------\u001b[0m",
      "\u001b[1;31mKeyboardInterrupt\u001b[0m                         Traceback (most recent call last)",
      "Cell \u001b[1;32mIn[1], line 81\u001b[0m\n\u001b[0;32m     79\u001b[0m \u001b[38;5;28mprint\u001b[39m(train_fold_loader)\n\u001b[0;32m     80\u001b[0m \u001b[38;5;66;03m# Training process\u001b[39;00m\n\u001b[1;32m---> 81\u001b[0m train(model, \n\u001b[0;32m     82\u001b[0m       train_fold_loader, \n\u001b[0;32m     83\u001b[0m       val_fold_loader, \n\u001b[0;32m     84\u001b[0m       \u001b[38;5;28;01mNone\u001b[39;00m, \n\u001b[0;32m     85\u001b[0m       optimizer, \n\u001b[0;32m     86\u001b[0m       criterion, \n\u001b[0;32m     87\u001b[0m       num_epochs, \n\u001b[0;32m     88\u001b[0m       DEVICE, \n\u001b[0;32m     89\u001b[0m       train_log, \n\u001b[0;32m     90\u001b[0m       validation_log)\n\u001b[0;32m     92\u001b[0m test(model,\n\u001b[0;32m     93\u001b[0m      test_fold_loader,\n\u001b[0;32m     94\u001b[0m      DEVICE,\n\u001b[0;32m     95\u001b[0m      test_log)\n",
      "File \u001b[1;32mc:\\Users\\omerfarukaydin\\Desktop\\OCTA-500-Projection-Maps\\classes\\train.py:24\u001b[0m, in \u001b[0;36mtrain\u001b[1;34m(model, train_loader, validation_loader, scheduler, optimizer, criterion, epochs, device, train_log, validation_log)\u001b[0m\n\u001b[0;32m     21\u001b[0m optimizer\u001b[38;5;241m.\u001b[39mstep()\n\u001b[0;32m     23\u001b[0m _, preds \u001b[38;5;241m=\u001b[39m torch\u001b[38;5;241m.\u001b[39mmax(outputs, \u001b[38;5;241m1\u001b[39m)\n\u001b[1;32m---> 24\u001b[0m correct \u001b[38;5;241m=\u001b[39m (preds \u001b[38;5;241m==\u001b[39m labels)\u001b[38;5;241m.\u001b[39msum()\u001b[38;5;241m.\u001b[39mitem()\n\u001b[0;32m     26\u001b[0m epoch_train_loss \u001b[38;5;241m+\u001b[39m\u001b[38;5;241m=\u001b[39m loss\u001b[38;5;241m.\u001b[39mitem() \u001b[38;5;241m*\u001b[39m images\u001b[38;5;241m.\u001b[39msize(\u001b[38;5;241m0\u001b[39m)\n\u001b[0;32m     27\u001b[0m epoch_train_correct \u001b[38;5;241m+\u001b[39m\u001b[38;5;241m=\u001b[39m correct\n",
      "\u001b[1;31mKeyboardInterrupt\u001b[0m: "
     ]
    }
   ],
   "source": [
    "import torch\n",
    "from torch.utils.data import DataLoader\n",
    "from torchvision import transforms\n",
    "from torch import nn, optim\n",
    "from torch.optim import lr_scheduler\n",
    "import datetime\n",
    "\n",
    "from classes.OCTADataset import OCTADataset\n",
    "from classes.Config import Config\n",
    "from classes.Folds import Folds\n",
    "from classes.train import train\n",
    "from classes.test import test\n",
    "from logger.Logger import Logger, TrainLogger, ValidationLogger, TestLogger\n",
    "from utils.initialize_model import initialize_model\n",
    "\n",
    "# Configuration setup\n",
    "CONFIG = Config(\"configs/config.py\")\n",
    "MODEL_CONFIG = Config(CONFIG.model_config)\n",
    "\n",
    "DEVICE = torch.device(CONFIG.device if torch.cuda.is_available() else \"cpu\")\n",
    "print(f\"Device: {DEVICE}\")  \n",
    "\n",
    "# Data transformations\n",
    "transform = transforms.Compose([\n",
    "    transforms.ToTensor(),\n",
    "    transforms.Resize(size=CONFIG.transform.resize.size, \n",
    "                      antialias=CONFIG.transform.resize.antialias),\n",
    "    transforms.Normalize(mean=CONFIG.transform.normalize.mean, \n",
    "                         std=CONFIG.transform.normalize.std)\n",
    "])\n",
    "\n",
    "# Full dataset initialization\n",
    "full_dataset = OCTADataset(\n",
    "    images_directory_root_path=CONFIG.OCTADataset.images_directory_root_path, \n",
    "    labels_directory_root_path=CONFIG.OCTADataset.labels_directory_root_path, \n",
    "    transform=transform,\n",
    "    num_classes=CONFIG.OCTADataset.num_classes\n",
    ")\n",
    "\n",
    "# Fold initialization\n",
    "folds = Folds(dataset=full_dataset, \n",
    "              folds_folder_directory_path=CONFIG.k_fold_train.fold_indices_directory_path, \n",
    "              class_number=CONFIG.OCTADataset.num_classes)\n",
    "\n",
    "# Logger initialization\n",
    "LOGGER = Logger()\n",
    "timestamp = datetime.now().strftime(\"%d-%m-%Y_%H-%M-%S\")\n",
    "\n",
    "# K-Fold training and testing loop\n",
    "for i in range(folds.num_folds()):\n",
    "    fold_indices = folds.get_fold(i)\n",
    "    \n",
    "    # Subset datasets for the current fold\n",
    "    train_fold_dataset = torch.utils.data.Subset(full_dataset, fold_indices[\"train\"])\n",
    "    val_fold_dataset = torch.utils.data.Subset(full_dataset, fold_indices[\"val\"])\n",
    "    test_fold_dataset = torch.utils.data.Subset(full_dataset, fold_indices[\"test\"])\n",
    "    \n",
    "    # DataLoader setup\n",
    "    train_fold_loader = DataLoader(train_fold_dataset, batch_size=CONFIG.k_fold_train.batch_size, shuffle=True)\n",
    "    val_fold_loader = DataLoader(val_fold_dataset, batch_size=CONFIG.k_fold_train.batch_size, shuffle=False)\n",
    "    test_fold_loader = DataLoader(test_fold_dataset, batch_size=CONFIG.k_fold_train.batch_size, shuffle=False)\n",
    "    \n",
    "    # Create fold-specific directory\n",
    "    fold_dir = LOGGER.create_fold_dir(fold_number=i)\n",
    "    \n",
    "    # Initialize loggers for training, validation, and testing\n",
    "    train_log = TrainLogger(fold_dir)\n",
    "    validation_log = ValidationLogger(fold_dir)\n",
    "    test_log = TestLogger(fold_dir)\n",
    "    \n",
    "    # Model, criterion, optimizer, and scheduler setup\n",
    "    model = initialize_model(MODEL_CONFIG)\n",
    "    model.to(DEVICE)\n",
    "    criterion = nn.CrossEntropyLoss()\n",
    "    optimizer = optim.Adam(model.parameters(), \n",
    "                           lr=CONFIG.train.optimizer.lr)\n",
    "    scheduler = lr_scheduler.StepLR(optimizer, \n",
    "                                    step_size=CONFIG.train.scheduler.step_size, \n",
    "                                    gamma=CONFIG.train.scheduler.gamma)\n",
    "    num_epochs = CONFIG.k_fold_train.num_epochs\n",
    "    print(train_fold_loader)\n",
    "    # Training process\n",
    "    train(model, \n",
    "          train_fold_loader, \n",
    "          val_fold_loader, \n",
    "          None, \n",
    "          optimizer, \n",
    "          criterion, \n",
    "          num_epochs, \n",
    "          DEVICE, \n",
    "          train_log, \n",
    "          validation_log)\n",
    "    \n",
    "    test(model,\n",
    "         test_fold_loader,\n",
    "         DEVICE,\n",
    "         test_log)\n",
    "    \n",
    "    if CONFIG.save_model:\n",
    "        torch.save(model.state_dict(), fr\"{CONFIG.save_model_path}/{timestamp}/{str(MODEL_CONFIG.model.model)}_{CONFIG.OCTADataset.num_classes}_classes_{CONFIG.k_fold_train.num_epochs}_epochs_fold_{i}.pth\")\n"
   ]
  },
  {
   "cell_type": "code",
   "execution_count": 5,
   "metadata": {},
   "outputs": [
    {
     "data": {
      "text/plain": [
       "'Model.RESNET50'"
      ]
     },
     "execution_count": 5,
     "metadata": {},
     "output_type": "execute_result"
    }
   ],
   "source": [
    "str(MODEL_CONFIG.model.model)"
   ]
  },
  {
   "cell_type": "code",
   "execution_count": null,
   "metadata": {},
   "outputs": [],
   "source": []
  }
 ],
 "metadata": {
  "kernelspec": {
   "display_name": "base",
   "language": "python",
   "name": "python3"
  },
  "language_info": {
   "codemirror_mode": {
    "name": "ipython",
    "version": 3
   },
   "file_extension": ".py",
   "mimetype": "text/x-python",
   "name": "python",
   "nbconvert_exporter": "python",
   "pygments_lexer": "ipython3",
   "version": "3.11.5"
  }
 },
 "nbformat": 4,
 "nbformat_minor": 2
}
