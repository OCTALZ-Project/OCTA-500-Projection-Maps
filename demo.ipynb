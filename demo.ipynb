{
 "cells": [
  {
   "cell_type": "code",
   "execution_count": 1,
   "metadata": {},
   "outputs": [
    {
     "name": "stdout",
     "output_type": "stream",
     "text": [
      "Device: cuda\n"
     ]
    },
    {
     "data": {
      "application/vnd.jupyter.widget-view+json": {
       "model_id": "8b0ccb7f1a3842c78dc7b2e6523253dd",
       "version_major": 2,
       "version_minor": 0
      },
      "text/plain": [
       "Training:   0%|          | 0/100 [00:00<?, ?it/s]"
      ]
     },
     "metadata": {},
     "output_type": "display_data"
    },
    {
     "data": {
      "application/vnd.jupyter.widget-view+json": {
       "model_id": "d8dc30d7b31c44cda837a6e5f55938c6",
       "version_major": 2,
       "version_minor": 0
      },
      "text/plain": [
       "Validation:   0%|          | 0/100 [00:00<?, ?it/s]"
      ]
     },
     "metadata": {},
     "output_type": "display_data"
    },
    {
     "name": "stdout",
     "output_type": "stream",
     "text": [
      "Model saved to out\\05-09-2024_17-55-17\\saved_models/Model.RESNET50_4_classes_1_epoch(s)_fold_1.pth\n"
     ]
    },
    {
     "data": {
      "application/vnd.jupyter.widget-view+json": {
       "model_id": "25eee90f26004c1cb93bc792e5a9065f",
       "version_major": 2,
       "version_minor": 0
      },
      "text/plain": [
       "Training:   0%|          | 0/100 [00:00<?, ?it/s]"
      ]
     },
     "metadata": {},
     "output_type": "display_data"
    },
    {
     "data": {
      "application/vnd.jupyter.widget-view+json": {
       "model_id": "2639d1b517a740758f6ad84fa8dbf1a0",
       "version_major": 2,
       "version_minor": 0
      },
      "text/plain": [
       "Validation:   0%|          | 0/100 [00:00<?, ?it/s]"
      ]
     },
     "metadata": {},
     "output_type": "display_data"
    },
    {
     "name": "stdout",
     "output_type": "stream",
     "text": [
      "Model saved to out\\05-09-2024_17-55-17\\saved_models/Model.RESNET50_4_classes_1_epoch(s)_fold_2.pth\n"
     ]
    },
    {
     "data": {
      "application/vnd.jupyter.widget-view+json": {
       "model_id": "61aff34af54e4cf899bec341b4ed0773",
       "version_major": 2,
       "version_minor": 0
      },
      "text/plain": [
       "Training:   0%|          | 0/100 [00:00<?, ?it/s]"
      ]
     },
     "metadata": {},
     "output_type": "display_data"
    },
    {
     "data": {
      "application/vnd.jupyter.widget-view+json": {
       "model_id": "64b39af9c6f14748b3beb700a70e3399",
       "version_major": 2,
       "version_minor": 0
      },
      "text/plain": [
       "Validation:   0%|          | 0/100 [00:00<?, ?it/s]"
      ]
     },
     "metadata": {},
     "output_type": "display_data"
    },
    {
     "name": "stdout",
     "output_type": "stream",
     "text": [
      "Model saved to out\\05-09-2024_17-55-17\\saved_models/Model.RESNET50_4_classes_1_epoch(s)_fold_3.pth\n"
     ]
    },
    {
     "data": {
      "application/vnd.jupyter.widget-view+json": {
       "model_id": "ee81cdadf8ec4f8f8f8287665fd90089",
       "version_major": 2,
       "version_minor": 0
      },
      "text/plain": [
       "Training:   0%|          | 0/100 [00:00<?, ?it/s]"
      ]
     },
     "metadata": {},
     "output_type": "display_data"
    },
    {
     "data": {
      "application/vnd.jupyter.widget-view+json": {
       "model_id": "2aea32d2f4744f7eb9175faf8d7fac8c",
       "version_major": 2,
       "version_minor": 0
      },
      "text/plain": [
       "Validation:   0%|          | 0/100 [00:00<?, ?it/s]"
      ]
     },
     "metadata": {},
     "output_type": "display_data"
    },
    {
     "name": "stdout",
     "output_type": "stream",
     "text": [
      "Model saved to out\\05-09-2024_17-55-17\\saved_models/Model.RESNET50_4_classes_1_epoch(s)_fold_4.pth\n"
     ]
    },
    {
     "data": {
      "application/vnd.jupyter.widget-view+json": {
       "model_id": "827886a4e59c4b72a861bb338360068c",
       "version_major": 2,
       "version_minor": 0
      },
      "text/plain": [
       "Training:   0%|          | 0/100 [00:00<?, ?it/s]"
      ]
     },
     "metadata": {},
     "output_type": "display_data"
    },
    {
     "data": {
      "application/vnd.jupyter.widget-view+json": {
       "model_id": "b1b3acc6cd754654bec6178e3d8b3f2d",
       "version_major": 2,
       "version_minor": 0
      },
      "text/plain": [
       "Validation:   0%|          | 0/100 [00:00<?, ?it/s]"
      ]
     },
     "metadata": {},
     "output_type": "display_data"
    },
    {
     "name": "stdout",
     "output_type": "stream",
     "text": [
      "Model saved to out\\05-09-2024_17-55-17\\saved_models/Model.RESNET50_4_classes_1_epoch(s)_fold_5.pth\n"
     ]
    }
   ],
   "source": [
    "import torch\n",
    "from torch.utils.data import DataLoader\n",
    "from torchvision import transforms\n",
    "from torch import nn, optim\n",
    "from torch.optim import lr_scheduler\n",
    "\n",
    "from classes.OCTADataset import OCTADataset\n",
    "from classes.Config import Config\n",
    "from classes.Folds import Folds\n",
    "from classes.Train import train\n",
    "from classes.Test import test\n",
    "from logger.Logger import Logger, TrainLogger, ValidationLogger, TestLogger\n",
    "from utils.initialize_model import initialize_model\n",
    "from utils.utils import save_model\n",
    "from datetime import datetime\n",
    "\n",
    "# Configuration setup\n",
    "CONFIG = Config(\"configs/config.py\")\n",
    "MODEL_CONFIG = Config(CONFIG.model_config)\n",
    "\n",
    "DEVICE = torch.device(CONFIG.device if torch.cuda.is_available() else \"cpu\")\n",
    "print(f\"Device: {DEVICE}\")  \n",
    "\n",
    "# Data transformations\n",
    "transform = transforms.Compose([\n",
    "    transforms.ToTensor(),\n",
    "    transforms.Resize(size=CONFIG.transform.resize.size, \n",
    "                      antialias=CONFIG.transform.resize.antialias),\n",
    "    transforms.Normalize(mean=CONFIG.transform.normalize.mean, \n",
    "                         std=CONFIG.transform.normalize.std)\n",
    "])\n",
    "\n",
    "# Full dataset initialization\n",
    "full_dataset = OCTADataset(\n",
    "    images_directory_root_path=CONFIG.OCTADataset.images_directory_root_path, \n",
    "    labels_directory_root_path=CONFIG.OCTADataset.labels_directory_root_path, \n",
    "    transform=transform,\n",
    "    num_classes=CONFIG.OCTADataset.num_classes\n",
    ")\n",
    "\n",
    "# Fold initialization\n",
    "folds = Folds(dataset=full_dataset, \n",
    "              folds_folder_directory_path=CONFIG.k_fold_train.fold_indices_directory_path, \n",
    "              class_number=CONFIG.OCTADataset.num_classes)\n",
    "\n",
    "timestamp = datetime.now().strftime(\"%d-%m-%Y_%H-%M-%S\")\n",
    "LOGGER = Logger(timestamp)\n",
    "\n",
    "# K-Fold training and testing loop\n",
    "for i in range(folds.num_folds()):\n",
    "    fold_indices = folds.get_fold(i)\n",
    "    \n",
    "    # Subset datasets for the current fold\n",
    "    train_fold_dataset = torch.utils.data.Subset(full_dataset, fold_indices[\"train\"])\n",
    "    val_fold_dataset = torch.utils.data.Subset(full_dataset, fold_indices[\"val\"])\n",
    "    test_fold_dataset = torch.utils.data.Subset(full_dataset, fold_indices[\"test\"])\n",
    "    \n",
    "    # DataLoader setup\n",
    "    train_fold_loader = DataLoader(train_fold_dataset, batch_size=CONFIG.k_fold_train.batch_size, shuffle=True)\n",
    "    val_fold_loader = DataLoader(val_fold_dataset, batch_size=CONFIG.k_fold_train.batch_size, shuffle=False)\n",
    "    test_fold_loader = DataLoader(test_fold_dataset, batch_size=CONFIG.k_fold_train.batch_size, shuffle=False)\n",
    "    \n",
    "    # Create fold-specific directory\n",
    "    fold_dir = LOGGER.create_fold_dir(fold_number=i+1)\n",
    "    \n",
    "    # Initialize loggers for training, validation, and testing\n",
    "    train_log = TrainLogger(fold_dir)\n",
    "    validation_log = ValidationLogger(fold_dir)\n",
    "    test_log = TestLogger(fold_dir)\n",
    "    \n",
    "    # Model, criterion, optimizer, and scheduler setup\n",
    "    model = initialize_model(MODEL_CONFIG)\n",
    "    model.to(DEVICE)\n",
    "    criterion = nn.CrossEntropyLoss()\n",
    "    optimizer = optim.Adam(model.parameters(), \n",
    "                           lr=CONFIG.train.optimizer.lr)\n",
    "    scheduler = lr_scheduler.StepLR(optimizer, \n",
    "                                    step_size=CONFIG.train.scheduler.step_size, \n",
    "                                    gamma=CONFIG.train.scheduler.gamma)\n",
    "    num_epochs = CONFIG.k_fold_train.num_epochs\n",
    "\n",
    "    train(model, \n",
    "          train_fold_loader, \n",
    "          val_fold_loader, \n",
    "          None, \n",
    "          optimizer, \n",
    "          criterion, \n",
    "          num_epochs, \n",
    "          DEVICE, \n",
    "          train_log, \n",
    "          validation_log)\n",
    "    \n",
    "    test(model,\n",
    "         test_fold_loader,\n",
    "         DEVICE,\n",
    "         test_log)\n",
    "    \n",
    "    if CONFIG.save_model:\n",
    "        save_model(CONFIG, MODEL_CONFIG, timestamp, model, i)\n"
   ]
  },
  {
   "cell_type": "code",
   "execution_count": null,
   "metadata": {},
   "outputs": [],
   "source": []
  }
 ],
 "metadata": {
  "kernelspec": {
   "display_name": "base",
   "language": "python",
   "name": "python3"
  },
  "language_info": {
   "codemirror_mode": {
    "name": "ipython",
    "version": 3
   },
   "file_extension": ".py",
   "mimetype": "text/x-python",
   "name": "python",
   "nbconvert_exporter": "python",
   "pygments_lexer": "ipython3",
   "version": "3.11.5"
  }
 },
 "nbformat": 4,
 "nbformat_minor": 2
}
